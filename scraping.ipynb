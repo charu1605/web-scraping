{
  "nbformat": 4,
  "nbformat_minor": 0,
  "metadata": {
    "colab": {
      "provenance": [],
      "authorship_tag": "ABX9TyO5n9BetD5N48jJX5MN6KMg",
      "include_colab_link": true
    },
    "kernelspec": {
      "name": "python3",
      "display_name": "Python 3"
    },
    "language_info": {
      "name": "python"
    }
  },
  "cells": [
    {
      "cell_type": "markdown",
      "metadata": {
        "id": "view-in-github",
        "colab_type": "text"
      },
      "source": [
        "<a href=\"https://colab.research.google.com/github/charu1605/web-scraping/blob/main/scraping.ipynb\" target=\"_parent\"><img src=\"https://colab.research.google.com/assets/colab-badge.svg\" alt=\"Open In Colab\"/></a>"
      ]
    },
    {
      "cell_type": "code",
      "execution_count": null,
      "metadata": {
        "colab": {
          "base_uri": "https://localhost:8080/"
        },
        "id": "AwdZJhmwGD8X",
        "outputId": "7a6dd749-ab52-4135-b633-cb2338ab897c"
      },
      "outputs": [
        {
          "output_type": "stream",
          "name": "stdout",
          "text": [
            "Extracting article: Trump\n",
            "Extracting article: Jeffrey Sachs\n",
            "Extracting article: Kaja Kallas\n",
            "Extracting article: Alberto Piroddi\n",
            "Extracting article: Massimo Cacciari\n",
            "\n",
            "Article: Trump\n",
            "\n",
            "by Pino Arlacchi\n",
            "\n",
            "Trump’s inaugural address and his first executive orders typify the debut of a populist leader promising to rescue the people from their perceived plight and lead them toward a path of rebirth.\n",
            "\n",
            "How many times have we seen this dismal spectacle? From Mussolini to Hitler, from Berlusconi to today’s xenophobic European leaders, countless figures have promised national greatness and prosperity through their personal charisma, only to collapse ignominiously—and often tragically—und\n",
            "\n",
            "==================================================\n",
            "\n",
            "\n",
            "Article: Jeffrey Sachs\n",
            "\n",
            "Judge Andrew Napolitano and Professor Jeffrey Sachs discussed key geopolitical issues on Judging Freedom, including Donald Trump’s executive order to declassify files related to the assassinations of JFK, RFK, and MLK, raising questions about transparency and potential revelations. They examined the Ukraine war, predicting its imminent end due to anticipated U.S. withdrawal of support under a Republican Congress, and criticized the Biden administration’s handling of the conflict. The discussion \n",
            "\n",
            "==================================================\n",
            "\n",
            "\n",
            "Article: Kaja Kallas\n",
            "\n",
            "by Marco Travaglio\n",
            "\n",
            "Among the drunken pygmies of the so-called EU tasked with responding to the challenges and misfortunes of Trumpism, the Estonian Kaja Kallas stands out for her foresight and balance—or so they say. As the “High Representative of Foreign Policy” (just imagine what the low ones might be like), she recently unleashed three pearls of wisdom that showcase pure genius, no less.\n",
            "\n",
            "Let’s not forget, the world is full of erratic politicians. Kallas’ grandmother and mother were deported\n",
            "\n",
            "==================================================\n",
            "\n",
            "\n",
            "Article: Alberto Piroddi\n",
            "\n",
            "by Alberto Piroddi\n",
            "\n",
            "The phenomenon of poor Americans electing wealthy individuals to positions of power is both perplexing and deeply revealing, highlighting profound fractures within society. The image of a billionaire president celebrated by a chorus of the ultra-rich at a moment when millions are struggling to make ends meet starkly illustrates the contradictions inherent in modern democracy. This dynamic is not merely a failure of economics but a deeper crisis of collective awareness—a break\n",
            "\n",
            "==================================================\n",
            "\n",
            "\n",
            "Article: Massimo Cacciari\n",
            "\n",
            "by Massimo Cacciari\n",
            "\n",
            "“Put the Musks in charge!” – This seems to encapsulate the era we’ve already entered. No political vision or clear strategy shapes this process. Instead, it’s a cultural and anthropological evolution of the system governing our world. Public opinion plays an active and passive role in this, just like its political “leaders.” The power of Technology (the global apparatus made up of economics, finance, science, innovation, and development) has long ceased to be perceived as a \n",
            "\n",
            "==================================================\n",
            "\n"
          ]
        }
      ],
      "source": [
        "import requests\n",
        "from bs4 import BeautifulSoup\n",
        "\n",
        "def get_article_text(url):\n",
        "    '''Extracts and returns only the main text from a given URL.'''\n",
        "    try:\n",
        "        headers = {\n",
        "            'User-Agent': 'Mozilla/5.0 (Windows NT 10.0; Win64; x64) AppleWebKit/537.36 (KHTML, like Gecko) Chrome/58.0.3029.110 Safari/537.36'\n",
        "        }\n",
        "\n",
        "        response = requests.get(url, headers=headers)\n",
        "        response.raise_for_status()\n",
        "        soup = BeautifulSoup(response.text, 'lxml')\n",
        "\n",
        "\n",
        "        content_divs = soup.find_all('div', class_=\"elementor-widget-container\")\n",
        "\n",
        "        # Extract text from all <p> tags inside these divs\n",
        "        article_text = \"\\n\\n\".join([p.get_text() for div in content_divs for p in div.find_all('p')])\n",
        "\n",
        "        return article_text.strip() if article_text else \"No text found\"\n",
        "\n",
        "    except Exception as e:\n",
        "        print(f\"Error: {e}\")\n",
        "        return None\n",
        "\n",
        "def extract_articles(article_names_and_urls):\n",
        "    '''Extracts articles for multiple URLs with specific names.'''\n",
        "    articles = {}\n",
        "\n",
        "    for name, url in article_names_and_urls.items():\n",
        "        print(f\"Extracting article: {name}\")\n",
        "        article_text = get_article_text(url)\n",
        "        if article_text:\n",
        "            articles[name] = article_text\n",
        "        else:\n",
        "            articles[name] = \"Failed to extract article\"\n",
        "\n",
        "    return articles\n",
        "\n",
        "# Define article names and corresponding URLs in the dictionary\n",
        "article_names_and_urls = {\n",
        "    \"Trump\": \"https://scrapsfromtheloft.com/opinions/trump-and-the-decline-of-the-american-people/\",\n",
        "    \"Jeffrey Sachs\": \"https://scrapsfromtheloft.com/opinions/jeffrey-sachs-can-there-be-peace-with-netanyahu-transcript/\",\n",
        "    \"Kaja Kallas\": \"https://scrapsfromtheloft.com/opinions/the-pure-genius-of-kaja-kallas/\",\n",
        "    \"Alberto Piroddi\":\"https://scrapsfromtheloft.com/opinions/why-do-the-poor-in-america-elect-the-rich/\",\n",
        "    \"Massimo Cacciari\":\"https://scrapsfromtheloft.com/opinions/the-musks-the-machine-and-the-left-out-of-play/\"\n",
        "\n",
        "}\n",
        "\n",
        "# Extract articles\n",
        "extracted_articles = extract_articles(article_names_and_urls)\n",
        "\n",
        "# Print the extracted articles\n",
        "for name, article_text in extracted_articles.items():\n",
        "    print(f\"\\nArticle: {name}\\n\")\n",
        "    print(article_text[:500])  # Print only the first 500 characters for preview\n",
        "    print(\"\\n\" + \"=\"*50 + \"\\n\")\n"
      ]
    },
    {
      "cell_type": "code",
      "source": [
        "def save_articles_to_files(articles):\n",
        "    '''Saves each article in a separate text file.'''\n",
        "    for name, article_text in articles.items():\n",
        "        # Sanitize the article title for use as a filename\n",
        "        filename = f\"{name.replace(' ', '_').replace('/', '_').replace(':', '')}.txt\"\n",
        "\n",
        "        # Save the article text to a text file\n",
        "        with open(filename, \"w\", encoding=\"utf-8\") as file:\n",
        "            file.write(article_text)\n",
        "\n",
        "        print(f\"Article '{name}' saved as '{filename}'\")\n",
        "extracted_articles = extract_articles(article_names_and_urls)\n",
        "\n",
        "# Save articles to text files\n",
        "save_articles_to_files(extracted_articles)"
      ],
      "metadata": {
        "colab": {
          "base_uri": "https://localhost:8080/"
        },
        "id": "Q544saTBG4XZ",
        "outputId": "3e816511-1d52-4603-813d-f29aa28f826e"
      },
      "execution_count": null,
      "outputs": [
        {
          "output_type": "stream",
          "name": "stdout",
          "text": [
            "Extracting article: Trump\n",
            "Extracting article: Jeffrey Sachs\n",
            "Extracting article: Kaja Kallas\n",
            "Extracting article: Alberto Piroddi\n",
            "Extracting article: Massimo Cacciari\n",
            "Article 'Trump' saved as 'Trump.txt'\n",
            "Article 'Jeffrey Sachs' saved as 'Jeffrey_Sachs.txt'\n",
            "Article 'Kaja Kallas' saved as 'Kaja_Kallas.txt'\n",
            "Article 'Alberto Piroddi' saved as 'Alberto_Piroddi.txt'\n",
            "Article 'Massimo Cacciari' saved as 'Massimo_Cacciari.txt'\n"
          ]
        }
      ]
    },
    {
      "cell_type": "code",
      "source": [
        "import pickle\n",
        "def save_articles_to_files_and_pickle(articles):\n",
        "    '''Saves each article in a separate text file and a pickle file.'''\n",
        "\n",
        "    # Save articles as .txt files\n",
        "    for name, article_text in articles.items():\n",
        "        # Sanitize the article title for use as a filename\n",
        "        filename = f\"{name.replace(' ', '_').replace('/', '_').replace(':', '')}.txt\"\n",
        "\n",
        "        # Save the article text to a text file\n",
        "        with open(filename, \"w\", encoding=\"utf-8\") as file:\n",
        "            file.write(article_text)\n",
        "\n",
        "        print(f\"Article '{name}' saved as '{filename}'\")\n",
        "\n",
        "    # Save the articles as a pickle file\n",
        "    with open(\"articles.pkl\", \"wb\") as pickle_file:\n",
        "        pickle.dump(articles, pickle_file)\n",
        "\n",
        "    print(\"All articles saved as 'articles.pkl'\")\n",
        "\n",
        "# Extract articles\n",
        "extracted_articles = extract_articles(article_names_and_urls)\n",
        "\n",
        "# Save articles to text files and pickle file\n",
        "save_articles_to_files_and_pickle(extracted_articles)"
      ],
      "metadata": {
        "colab": {
          "base_uri": "https://localhost:8080/"
        },
        "id": "lm5X_morG4VO",
        "outputId": "45f8bdd7-6369-49ad-8e36-264ad62247fa"
      },
      "execution_count": null,
      "outputs": [
        {
          "output_type": "stream",
          "name": "stdout",
          "text": [
            "Extracting article: Trump\n",
            "Extracting article: Jeffrey Sachs\n",
            "Extracting article: Kaja Kallas\n",
            "Extracting article: Alberto Piroddi\n",
            "Extracting article: Massimo Cacciari\n",
            "Article 'Trump' saved as 'Trump.txt'\n",
            "Article 'Jeffrey Sachs' saved as 'Jeffrey_Sachs.txt'\n",
            "Article 'Kaja Kallas' saved as 'Kaja_Kallas.txt'\n",
            "Article 'Alberto Piroddi' saved as 'Alberto_Piroddi.txt'\n",
            "Article 'Massimo Cacciari' saved as 'Massimo_Cacciari.txt'\n",
            "All articles saved as 'articles.pkl'\n"
          ]
        }
      ]
    },
    {
      "cell_type": "code",
      "source": [
        "import pickle\n",
        "\n",
        "# Load the saved articles from the pickle file\n",
        "with open(\"articles.pkl\", \"rb\") as file:\n",
        "    articles = pickle.load(file)\n",
        "\n",
        "# Print a preview of each article\n",
        "for name, article_text in articles.items():\n",
        "    print(f\"\\nArticle: {name}\\n\")\n",
        "    print(article_text[:500])  # Print only the first 500 characters for preview\n",
        "    print(\"\\n\" + \"=\"*50 + \"\\n\")\n"
      ],
      "metadata": {
        "colab": {
          "base_uri": "https://localhost:8080/"
        },
        "id": "jkdvwAXFG4R3",
        "outputId": "5501049c-a1c2-4774-95c6-bfeb6b76cd46"
      },
      "execution_count": null,
      "outputs": [
        {
          "output_type": "stream",
          "name": "stdout",
          "text": [
            "\n",
            "Article: Trump\n",
            "\n",
            "by Pino Arlacchi\n",
            "\n",
            "Trump’s inaugural address and his first executive orders typify the debut of a populist leader promising to rescue the people from their perceived plight and lead them toward a path of rebirth.\n",
            "\n",
            "How many times have we seen this dismal spectacle? From Mussolini to Hitler, from Berlusconi to today’s xenophobic European leaders, countless figures have promised national greatness and prosperity through their personal charisma, only to collapse ignominiously—and often tragically—und\n",
            "\n",
            "==================================================\n",
            "\n",
            "\n",
            "Article: Jeffrey Sachs\n",
            "\n",
            "Judge Andrew Napolitano and Professor Jeffrey Sachs discussed key geopolitical issues on Judging Freedom, including Donald Trump’s executive order to declassify files related to the assassinations of JFK, RFK, and MLK, raising questions about transparency and potential revelations. They examined the Ukraine war, predicting its imminent end due to anticipated U.S. withdrawal of support under a Republican Congress, and criticized the Biden administration’s handling of the conflict. The discussion \n",
            "\n",
            "==================================================\n",
            "\n",
            "\n",
            "Article: Kaja Kallas\n",
            "\n",
            "by Marco Travaglio\n",
            "\n",
            "Among the drunken pygmies of the so-called EU tasked with responding to the challenges and misfortunes of Trumpism, the Estonian Kaja Kallas stands out for her foresight and balance—or so they say. As the “High Representative of Foreign Policy” (just imagine what the low ones might be like), she recently unleashed three pearls of wisdom that showcase pure genius, no less.\n",
            "\n",
            "Let’s not forget, the world is full of erratic politicians. Kallas’ grandmother and mother were deported\n",
            "\n",
            "==================================================\n",
            "\n",
            "\n",
            "Article: Alberto Piroddi\n",
            "\n",
            "by Alberto Piroddi\n",
            "\n",
            "The phenomenon of poor Americans electing wealthy individuals to positions of power is both perplexing and deeply revealing, highlighting profound fractures within society. The image of a billionaire president celebrated by a chorus of the ultra-rich at a moment when millions are struggling to make ends meet starkly illustrates the contradictions inherent in modern democracy. This dynamic is not merely a failure of economics but a deeper crisis of collective awareness—a break\n",
            "\n",
            "==================================================\n",
            "\n",
            "\n",
            "Article: Massimo Cacciari\n",
            "\n",
            "by Massimo Cacciari\n",
            "\n",
            "“Put the Musks in charge!” – This seems to encapsulate the era we’ve already entered. No political vision or clear strategy shapes this process. Instead, it’s a cultural and anthropological evolution of the system governing our world. Public opinion plays an active and passive role in this, just like its political “leaders.” The power of Technology (the global apparatus made up of economics, finance, science, innovation, and development) has long ceased to be perceived as a \n",
            "\n",
            "==================================================\n",
            "\n"
          ]
        }
      ]
    },
    {
      "cell_type": "code",
      "source": [
        "import re\n",
        "import string\n",
        "import nltk\n",
        "from nltk.corpus import stopwords\n",
        "import pickle\n",
        "\n",
        "# Download stopwords if not already downloaded\n",
        "nltk.download('stopwords')\n",
        "\n",
        "# Load the articles from the pickle file\n",
        "with open(\"articles.pkl\", \"rb\") as file:\n",
        "    articles = pickle.load(file)\n",
        "\n",
        "# Initialize stop words\n",
        "stop_words = set(stopwords.words('english'))\n",
        "\n",
        "# Function to clean a single article text\n",
        "def clean_article_text(article_text):\n",
        "    # Step 1: Convert text to lowercase\n",
        "    article_text = article_text.lower()\n",
        "\n",
        "    # Step 2: Remove punctuation\n",
        "    article_text = article_text.translate(str.maketrans(\"\", \"\", string.punctuation))\n",
        "\n",
        "    # Step 3: Remove numerical values\n",
        "    article_text = re.sub(r'\\d+', '', article_text)\n",
        "\n",
        "    # Step 4: Remove non-sensical text (newlines and extra spaces)\n",
        "    article_text = article_text.replace(\"\\n\", \" \").strip()\n",
        "\n",
        "    # Step 5: Remove stop words\n",
        "    filtered_words = [word for word in article_text.split() if word not in stop_words]\n",
        "\n",
        "    # Join back into a cleaned text\n",
        "    cleaned_text = \" \".join(filtered_words)\n",
        "\n",
        "    return cleaned_text\n",
        "\n",
        "# Process each article in the pickle file\n",
        "cleaned_articles = {name: clean_article_text(text) for name, text in articles.items()}\n",
        "\n",
        "# Print cleaned previews of each article\n",
        "for name, cleaned_text in cleaned_articles.items():\n",
        "    print(f\"\\nArticle: {name}\\n\")\n",
        "    print(cleaned_text[:500])  # Print only the first 500 characters for preview\n",
        "    print(\"\\n\" + \"=\"*50 + \"\\n\")\n"
      ],
      "metadata": {
        "colab": {
          "base_uri": "https://localhost:8080/"
        },
        "id": "SsFQkH7NG4Mk",
        "outputId": "f0bc447c-80dd-46aa-f4dd-ac52553d7d8f"
      },
      "execution_count": null,
      "outputs": [
        {
          "output_type": "stream",
          "name": "stdout",
          "text": [
            "\n",
            "Article: Trump\n",
            "\n",
            "pino arlacchi trump’s inaugural address first executive orders typify debut populist leader promising rescue people perceived plight lead toward path rebirth many times seen dismal spectacle mussolini hitler berlusconi today’s xenophobic european leaders countless figures promised national greatness prosperity personal charisma collapse ignominiously—and often tragically—under weight economic crises wars betrayal interests initially supported true trump came power democratic elections however ri\n",
            "\n",
            "==================================================\n",
            "\n",
            "\n",
            "Article: Jeffrey Sachs\n",
            "\n",
            "judge andrew napolitano professor jeffrey sachs discussed key geopolitical issues judging freedom including donald trump’s executive order declassify files related assassinations jfk rfk mlk raising questions transparency potential revelations examined ukraine war predicting imminent end due anticipated us withdrawal support republican congress criticized biden administration’s handling conflict discussion also addressed instability benjamin netanyahu’s government amid extremist pressures ceasef\n",
            "\n",
            "==================================================\n",
            "\n",
            "\n",
            "Article: Kaja Kallas\n",
            "\n",
            "marco travaglio among drunken pygmies socalled eu tasked responding challenges misfortunes trumpism estonian kaja kallas stands foresight balance—or say “high representative foreign policy” imagine low ones might like recently unleashed three pearls wisdom showcase pure genius less let’s forget world full erratic politicians kallas’ grandmother mother deported siberia soviet invasion baltic states baltic nations along poland american neocons ousted trump dream decisive war russia settle old scor\n",
            "\n",
            "==================================================\n",
            "\n",
            "\n",
            "Article: Alberto Piroddi\n",
            "\n",
            "alberto piroddi phenomenon poor americans electing wealthy individuals positions power perplexing deeply revealing highlighting profound fractures within society image billionaire president celebrated chorus ultrarich moment millions struggling make ends meet starkly illustrates contradictions inherent modern democracy dynamic merely failure economics deeper crisis collective awareness—a breakdown solidarity among affected inequality antonio gramsci’s reflections unity revolution resonate gramsc\n",
            "\n",
            "==================================================\n",
            "\n",
            "\n",
            "Article: Massimo Cacciari\n",
            "\n",
            "massimo cacciari “put musks charge” – seems encapsulate era we’ve already entered political vision clear strategy shapes process instead it’s cultural anthropological evolution system governing world public opinion plays active passive role like political “leaders” power technology global apparatus made economics finance science innovation development long ceased perceived means meet needs even surpass become sovereign authority dictates creates technology determines humanity’s moral imperatives\n",
            "\n",
            "==================================================\n",
            "\n"
          ]
        },
        {
          "output_type": "stream",
          "name": "stderr",
          "text": [
            "[nltk_data] Downloading package stopwords to /root/nltk_data...\n",
            "[nltk_data]   Unzipping corpora/stopwords.zip.\n"
          ]
        }
      ]
    },
    {
      "cell_type": "code",
      "source": [
        "import re\n",
        "import string\n",
        "import nltk\n",
        "import pandas as pd\n",
        "from nltk.corpus import stopwords\n",
        "import pickle\n",
        "\n",
        "# Download stopwords if not already downloaded\n",
        "nltk.download('stopwords')\n",
        "\n",
        "# Load the articles from the pickle file\n",
        "with open(\"articles.pkl\", \"rb\") as file:\n",
        "    articles = pickle.load(file)\n",
        "\n",
        "# Initialize stop words\n",
        "stop_words = set(stopwords.words('english'))\n",
        "\n",
        "# Function to clean a single article text\n",
        "def clean_article_text(article_text):\n",
        "    # Step 1: Convert text to lowercase\n",
        "    article_text = article_text.lower()\n",
        "\n",
        "    # Step 2: Remove punctuation\n",
        "    article_text = article_text.translate(str.maketrans(\"\", \"\", string.punctuation))\n",
        "\n",
        "    # Step 3: Remove numerical values\n",
        "    article_text = re.sub(r'\\d+', '', article_text)\n",
        "\n",
        "    # Step 4: Remove non-sensical text (newlines and extra spaces)\n",
        "    article_text = article_text.replace(\"\\n\", \" \").strip()\n",
        "\n",
        "    # Step 5: Remove stop words\n",
        "    filtered_words = [word for word in article_text.split() if word not in stop_words]\n",
        "\n",
        "    # Join back into a cleaned text\n",
        "    cleaned_text = \" \".join(filtered_words)\n",
        "\n",
        "    return cleaned_text\n",
        "\n",
        "# Create the Corpus (DataFrame)\n",
        "cleaned_articles = {name: clean_article_text(text) for name, text in articles.items()}\n",
        "corpus_df = pd.DataFrame(list(cleaned_articles.items()), columns=['Article', 'Text'])\n",
        "\n",
        "# Save the Corpus to a CSV\n",
        "corpus_df.to_csv(\"corpus.csv\", index=False)\n",
        "\n",
        "# Print the Corpus preview\n",
        "print(\"Corpus DataFrame:\")\n",
        "print(corpus_df.head())  # Show first few articles\n"
      ],
      "metadata": {
        "colab": {
          "base_uri": "https://localhost:8080/"
        },
        "id": "H9vCR6HIG4JC",
        "outputId": "eb308723-0df5-4489-8864-0d6a3f2bd6f8"
      },
      "execution_count": null,
      "outputs": [
        {
          "output_type": "stream",
          "name": "stdout",
          "text": [
            "Corpus DataFrame:\n",
            "            Article                                               Text\n",
            "0             Trump  pino arlacchi trump’s inaugural address first ...\n",
            "1     Jeffrey Sachs  judge andrew napolitano professor jeffrey sach...\n",
            "2       Kaja Kallas  marco travaglio among drunken pygmies socalled...\n",
            "3   Alberto Piroddi  alberto piroddi phenomenon poor americans elec...\n",
            "4  Massimo Cacciari  massimo cacciari “put musks charge” – seems en...\n"
          ]
        },
        {
          "output_type": "stream",
          "name": "stderr",
          "text": [
            "[nltk_data] Downloading package stopwords to /root/nltk_data...\n",
            "[nltk_data]   Package stopwords is already up-to-date!\n"
          ]
        }
      ]
    },
    {
      "cell_type": "code",
      "source": [
        "from sklearn.feature_extraction.text import CountVectorizer\n",
        "\n",
        "# Create the Document-Term Matrix (DTM)\n",
        "vectorizer = CountVectorizer(stop_words='english')\n",
        "dtm = vectorizer.fit_transform(corpus_df['Text'])\n",
        "\n",
        "# Convert the DTM into a DataFrame\n",
        "dtm_df = pd.DataFrame(dtm.toarray(), columns=vectorizer.get_feature_names_out(), index=corpus_df['Article'])\n",
        "\n",
        "# Save the DTM to a CSV\n",
        "dtm_df.to_csv(\"document_term_matrix.csv\")\n",
        "\n",
        "# Print the DTM preview\n",
        "print(\"\\nDocument-Term Matrix:\")\n",
        "print(dtm_df.head())  # Show the DTM (first few rows)\n"
      ],
      "metadata": {
        "colab": {
          "base_uri": "https://localhost:8080/"
        },
        "id": "gGTE1JAUG4GU",
        "outputId": "db5c56cb-8071-48f5-af4e-4ba554868c5b"
      },
      "execution_count": null,
      "outputs": [
        {
          "output_type": "stream",
          "name": "stdout",
          "text": [
            "\n",
            "Document-Term Matrix:\n",
            "                  ability  absolutely  abstention  abstract  absurd  accident  \\\n",
            "Article                                                                         \n",
            "Trump                   1           0           0         0       0         0   \n",
            "Jeffrey Sachs           0           4           0         0       1         0   \n",
            "Kaja Kallas             0           0           0         0       0         0   \n",
            "Alberto Piroddi         1           0           0         1       0         1   \n",
            "Massimo Cacciari        0           0           2         0       0         0   \n",
            "\n",
            "                  accountability  accountable  achieve  achievements  ...  \\\n",
            "Article                                                               ...   \n",
            "Trump                          0            0        0             0  ...   \n",
            "Jeffrey Sachs                  0            0        1             0  ...   \n",
            "Kaja Kallas                    0            0        0             0  ...   \n",
            "Alberto Piroddi                1            0        1             0  ...   \n",
            "Massimo Cacciari               0            1        0             2  ...   \n",
            "\n",
            "                  years  yes  youtube  zealot  zealotry  zealots  zelensky  \\\n",
            "Article                                                                      \n",
            "Trump                 6    0        0       0         0        0         0   \n",
            "Jeffrey Sachs         5    7        1       1         1        1         6   \n",
            "Kaja Kallas           0    0        0       0         0        0         3   \n",
            "Alberto Piroddi       0    0        0       0         0        0         0   \n",
            "Massimo Cacciari      0    0        0       0         0        0         0   \n",
            "\n",
            "                  zionist  zionists  zuckerberg  \n",
            "Article                                          \n",
            "Trump                   0         0           0  \n",
            "Jeffrey Sachs           1         2           0  \n",
            "Kaja Kallas             0         0           0  \n",
            "Alberto Piroddi         0         0           0  \n",
            "Massimo Cacciari        0         0           1  \n",
            "\n",
            "[5 rows x 1782 columns]\n"
          ]
        }
      ]
    },
    {
      "cell_type": "code",
      "source": [],
      "metadata": {
        "id": "JRLSDhZ-G4C2"
      },
      "execution_count": null,
      "outputs": []
    },
    {
      "cell_type": "code",
      "source": [],
      "metadata": {
        "id": "0dHfvqkvG4Aj"
      },
      "execution_count": null,
      "outputs": []
    },
    {
      "cell_type": "code",
      "source": [],
      "metadata": {
        "id": "-OgSwsUVG39m"
      },
      "execution_count": null,
      "outputs": []
    },
    {
      "cell_type": "code",
      "source": [],
      "metadata": {
        "id": "Ulrr0_Z7G369"
      },
      "execution_count": null,
      "outputs": []
    },
    {
      "cell_type": "code",
      "source": [],
      "metadata": {
        "id": "uiWuBorwG33_"
      },
      "execution_count": null,
      "outputs": []
    },
    {
      "cell_type": "code",
      "source": [],
      "metadata": {
        "id": "iiEjWa2tG31s"
      },
      "execution_count": null,
      "outputs": []
    },
    {
      "cell_type": "code",
      "source": [],
      "metadata": {
        "id": "OZrKjbGtG3yW"
      },
      "execution_count": null,
      "outputs": []
    },
    {
      "cell_type": "code",
      "source": [],
      "metadata": {
        "id": "38u76yjvG3wW"
      },
      "execution_count": null,
      "outputs": []
    }
  ]
}